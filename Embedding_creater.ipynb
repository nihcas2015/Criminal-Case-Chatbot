{
 "cells": [
  {
   "cell_type": "code",
   "execution_count": 4,
   "id": "f702c79e",
   "metadata": {},
   "outputs": [
    {
     "name": "stdout",
     "output_type": "stream",
     "text": [
      "Embeddings saved!\n",
      "[Arguments/Reasoning - 7.txt] Prosecution relied on oral testimony of 3 witnesses; medical evidence and ballistic expert’s evidence were considered unsatisfactory or inconclusive.\n",
      "Doubts existed regarding the weapon used, nature o...\n"
     ]
    }
   ],
   "source": [
    "from sentence_transformers import SentenceTransformer\n",
    "import faiss\n",
    "import os, json\n",
    "\n",
    "# Load embedding model\n",
    "embedder = SentenceTransformer(\"all-MiniLM-L6-v2\")\n",
    "\n",
    "# Folder of judgment files (already split into 4 sections)\n",
    "folder = r\"C:\\Users\\nihca\\OneDrive\\Documents\\vscode\\ml project\\summary\"\n",
    "\n",
    "docs = []\n",
    "embeddings = []\n",
    "\n",
    "# Each file contains Case facts, Issues, Arguments, Decision\n",
    "for file in os.listdir(folder):\n",
    "    if file.endswith(\".txt\"):\n",
    "        with open(os.path.join(folder, file), \"r\", encoding=\"utf-8\") as f:\n",
    "            content = f.read()\n",
    "\n",
    "        # Simple parser: split by section headers\n",
    "        parts = content.split(\"\\n\\n\")\n",
    "        for part in parts:\n",
    "            if \":\" in part:\n",
    "                section, text = part.split(\":\", 1)\n",
    "                section = section.strip()\n",
    "                text = text.strip()\n",
    "\n",
    "                emb = embedder.encode(text)\n",
    "                docs.append({\"case_id\": file, \"section\": section, \"text\": text})\n",
    "                embeddings.append(emb)\n",
    "\n",
    "# Convert to FAISS index\n",
    "import numpy as np\n",
    "embeddings = np.array(embeddings).astype(\"float32\")\n",
    "index = faiss.IndexFlatL2(embeddings.shape[1])\n",
    "index.add(embeddings)\n",
    "\n",
    "# Save docs + index\n",
    "faiss.write_index(index, \"judgements.index\")\n",
    "with open(\"judgements_meta.json\", \"w\", encoding=\"utf-8\") as f:\n",
    "    json.dump(docs, f, indent=2)\n",
    "\n",
    "print(\"Embeddings saved!\")\n",
    "\n",
    "# ---------- QUERY ----------\n",
    "def search(query, top_k=3):\n",
    "    q_emb = embedder.encode(query).astype(\"float32\").reshape(1, -1)\n",
    "    D, I = index.search(q_emb, top_k)\n",
    "    with open(\"judgements_meta.json\", \"r\", encoding=\"utf-8\") as f:\n",
    "        docs = json.load(f)\n",
    "    return [docs[i] for i in I[0]]\n",
    "\n",
    "results = search(\"Attacking a police officer\", top_k=1)\n",
    "for r in results:\n",
    "    print(f\"[{r['section']} - {r['case_id']}] {r['text'][:200]}...\")\n"
   ]
  }
 ],
 "metadata": {
  "kernelspec": {
   "display_name": "ml",
   "language": "python",
   "name": "python3"
  },
  "language_info": {
   "codemirror_mode": {
    "name": "ipython",
    "version": 3
   },
   "file_extension": ".py",
   "mimetype": "text/x-python",
   "name": "python",
   "nbconvert_exporter": "python",
   "pygments_lexer": "ipython3",
   "version": "3.10.18"
  }
 },
 "nbformat": 4,
 "nbformat_minor": 5
}
