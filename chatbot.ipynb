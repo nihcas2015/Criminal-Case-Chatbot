{
 "cells": [
  {
   "cell_type": "code",
   "execution_count": 15,
   "id": "349d4443",
   "metadata": {},
   "outputs": [],
   "source": [
    "from langchain.memory import ConversationBufferMemory\n",
    "from langchain.prompts import PromptTemplate\n",
    "from langchain.llms.base import LLM\n",
    "from langchain.chains import ConversationChain\n",
    "from typing import Optional, List, Any\n",
    "import faiss\n",
    "import json\n",
    "import numpy as np\n",
    "from sentence_transformers import SentenceTransformer\n",
    "import requests\n"
   ]
  },
  {
   "cell_type": "code",
   "execution_count": 16,
   "id": "30d4ba95",
   "metadata": {},
   "outputs": [],
   "source": [
    "embedder = SentenceTransformer(\"all-MiniLM-L6-v2\")"
   ]
  },
  {
   "cell_type": "code",
   "execution_count": 17,
   "id": "db008976",
   "metadata": {},
   "outputs": [],
   "source": [
    "def load_index_and_meta(index_path, meta_path):\n",
    "    index = faiss.read_index(index_path)\n",
    "    with open(meta_path, \"r\", encoding=\"utf-8\") as f:\n",
    "        meta = json.load(f)\n",
    "    return index, meta\n",
    "\n",
    "def search_faiss(query, index, meta, top_k=2):\n",
    "    query_vec = embedder.encode([query])\n",
    "    query_vec = np.array(query_vec).astype(\"float32\")\n",
    "    D, I = index.search(query_vec, top_k)\n",
    "    results = []\n",
    "    for idx in I[0]:\n",
    "        if idx < len(meta):\n",
    "            results.append(meta[idx])\n",
    "    return results\n",
    "class ollama(LLM):\n",
    "    model_name: str = \"mistral\"\n",
    "\n",
    "    @property\n",
    "    def _llm_type(self) -> str:\n",
    "        return \"ollama\"\n",
    "    \n",
    "    def _call(self,prompt: str, stop: Optional[List[str]] = None, **kwargs: Any):\n",
    "        response = requests.post(\n",
    "        \"http://127.0.0.1:11434/api/generate\",\n",
    "        json={\"model\": self.model_name, \"prompt\": prompt, \"stream\": False}\n",
    "    )\n",
    "        return response.json()[\"response\"]"
   ]
  },
  {
   "cell_type": "code",
   "execution_count": 18,
   "id": "d924f68c",
   "metadata": {},
   "outputs": [],
   "source": [
    "ipc_index, ipc_meta = load_index_and_meta(\"ipc.index\", \"ipc_meta.json\")\n",
    "judg_index, judg_meta = load_index_and_meta(\"judgements.index\", \"judgements_meta.json\")"
   ]
  },
  {
   "cell_type": "code",
   "execution_count": null,
   "id": "4d2f7be7",
   "metadata": {},
   "outputs": [],
   "source": [
    "custom=PromptTemplate(input_variables=[\"history\",\"input\"],template=\"\"\" You are an legal Chatbot assistant specializing in India Penal Code.\n",
    "                      \n",
    "                      Previous conversations:{history}\n",
    "                      \n",
    "                      Current question and also judgements :{input}\n",
    "                      \n",
    "                    provide an suitable reply for the current question by utilizing previous conversations, keep it around 20 to 30 words .\n",
    "                      Utilize similar case judgement and compare it with the user case summary and reply but do not repeat about judgement in every replies.\n",
    "                      Only use these given text as knowledge, do not add your own knowledge.\n",
    "                     Only talk about legal replies DO NOT REPLY ANY QUESTIONS WHICH ARE OUT OF INDIAN PENAL CODE .\"\"\")"
   ]
  },
  {
   "cell_type": "code",
   "execution_count": null,
   "id": "bbc7d832",
   "metadata": {},
   "outputs": [],
   "source": [
    "llm=ollama()\n",
    "memory=ConversationBufferMemory()\n",
    "conversion = ConversationChain(llm=llm,memory=memory,prompt=custom,verbose=False)"
   ]
  },
  {
   "cell_type": "code",
   "execution_count": 21,
   "id": "875ecf6a",
   "metadata": {},
   "outputs": [
    {
     "name": "stdout",
     "output_type": "stream",
     "text": [
      "⚖️ IPC + Judgement Chatbot (type 'exit' to quit)\n",
      "\n",
      "\n",
      "Bot:  Based on the user query, the following Indian Penal Code (IPC) sections could potentially apply:\n",
      "\n",
      "1. Section 376 - Rape: This section criminalizes all forms of sexual intercourse without consent, including when the victim is under 18 years old or incapable of giving consent due to intoxication or unsoundness of mind. The penalty for rape includes imprisonment ranging from 7 years up to life and may also include a fine.\n",
      "\n",
      "2. Section 342 - Wrongful confinement: This section penalizes the act of unlawfully confining a person against their will, which could potentially apply if the girl was forced or tricked into a situation where she became pregnant. The penalty for wrongful confinement is imprisonment up to two years, or fine, or both.\n",
      "\n",
      "3. Section 317 - Abetment of an offence punishable with death or imprisonment for life or imprisonment: This section applies when a person abets or procures another person to commit any offense that carries the punishment of death, imprisonment for life, or imprisonment. In this case, it could potentially apply if your friend attempted to persuade or encourage someone else (possibly himself) to commit an offense like rape. The penalty includes the punishment provided for the offense abetted and also any fine provided in the IPC.\n",
      "\n",
      "4. Section 320 - Causing hurt: This section penalizes the act of intentionally causing hurt to another person, which could potentially apply if your friend caused physical harm during the rape or in some other way. The penalty for causing hurt is imprisonment up to three years, or fine, or both.\n",
      "\n",
      "5. Section 323 - Voluntarily causing hurt: This section penalizes the act of intentionally causing hurt to any person using dangerous weapons or means, which could potentially apply if your friend used violence or force during the rape. The penalty for voluntarily causing hurt is imprisonment up to two years, or fine, or both.\n",
      "\n",
      "6. Section 324 - Voluntarily causing grievous hurt: This section penalizes the act of intentionally causing grievous hurt to any person using dangerous weapons or means, which could potentially apply if your friend caused significant physical harm during the rape. The penalty for voluntarily causing grievous hurt is imprisonment up to seven years, or fine, or both.\n",
      "\n",
      "7. Section 326 - Voluntarily causing grievous hurt by dangerous weapons or means: This section penalizes the act of intentionally causing grievous hurt using a dangerous weapon or means, which could potentially apply if your friend used such methods during the rape. The penalty for voluntarily causing grievous hurt by dangerous weapons or means is imprisonment up to ten years, and also fine, or both.\n",
      "\n",
      "8. Section 328 - Causing hurt by an act endangering life or personal safety: This section penalizes the act of intentionally doing an act which is likely to cause hurt and is also likely to endanger life or personal safety, which could potentially apply if your friend's actions during the rape put the girl at risk. The penalty for causing hurt by an act endangering life or personal safety is imprisonment up to two years, or fine, or both.\n",
      "\n",
      "In addition, since the girl became pregnant as a result of this incident, there might also be charges related to abortion and child abandonment under relevant laws and regulations. The specific punishments for these offenses may vary depending on the circumstances and applicable laws. It is essential to consult with legal professionals to get accurate information about potential penalties in your case.\n",
      "\n"
     ]
    }
   ],
   "source": [
    "print(\"⚖️ IPC + Judgement Chatbot (type 'exit' to quit)\\n\")\n",
    "\n",
    "user_input = input(\"You: \").strip()\n",
    "\n",
    "\n",
    "ipc_results = search_faiss(user_input, ipc_index, ipc_meta)\n",
    "judg_results = search_faiss(user_input, judg_index, judg_meta)\n",
    "\n",
    "        # Step 2: Build context\n",
    "context = \"Relevant IPC Sections:\\n\"\n",
    "for sec in ipc_results:\n",
    "    context += f\"- Section {sec['section_number']}: {sec['section_text']} (Punishment: {sec['punishment']})\\n\"\n",
    "\n",
    "prompt = f\"User Query: {user_input}\\n\\n{context}\\n\\nBased on the above IPC sections, Name the sections relating to the user query and also list possible punishments.\"\n",
    "Reply_1=llm._call(prompt)\n",
    "\n",
    "context += \"\\nRelevant Judgements:\\n\"\n",
    "for case in judg_results:\n",
    "    context += f\"- {case['section']}: {case['text']}\\n\"\n",
    "\n",
    "\n",
    "\n",
    "print(f\"\\nBot: {Reply_1}\\n\")\n",
    "\n",
    "    \n"
   ]
  },
  {
   "cell_type": "code",
   "execution_count": 1,
   "id": "ca8260dc",
   "metadata": {},
   "outputs": [
    {
     "ename": "NameError",
     "evalue": "name 'context' is not defined",
     "output_type": "error",
     "traceback": [
      "\u001b[1;31m---------------------------------------------------------------------------\u001b[0m",
      "\u001b[1;31mNameError\u001b[0m                                 Traceback (most recent call last)",
      "Cell \u001b[1;32mIn[1], line 7\u001b[0m\n\u001b[0;32m      4\u001b[0m     \u001b[38;5;28mprint\u001b[39m(\u001b[38;5;124m\"\u001b[39m\u001b[38;5;124mBot: Goodbye!\u001b[39m\u001b[38;5;124m\"\u001b[39m)\n\u001b[0;32m      5\u001b[0m     \u001b[38;5;28;01mbreak\u001b[39;00m\n\u001b[1;32m----> 7\u001b[0m user_input\u001b[38;5;241m+\u001b[39m\u001b[38;5;241m=\u001b[39m\u001b[38;5;124mf\u001b[39m\u001b[38;5;124m\"\u001b[39m\u001b[38;5;130;01m\\n\u001b[39;00m\u001b[38;5;130;01m\\n\u001b[39;00m\u001b[38;5;124m similar case judgements : \u001b[39m\u001b[38;5;132;01m{\u001b[39;00m\u001b[43mcontext\u001b[49m\u001b[38;5;132;01m}\u001b[39;00m\u001b[38;5;124m\"\u001b[39m\n\u001b[0;32m      9\u001b[0m answer \u001b[38;5;241m=\u001b[39m conversion\u001b[38;5;241m.\u001b[39mpredict(\u001b[38;5;28minput\u001b[39m\u001b[38;5;241m=\u001b[39muser_input)\n\u001b[0;32m     11\u001b[0m \u001b[38;5;28mprint\u001b[39m(\u001b[38;5;124mf\u001b[39m\u001b[38;5;124m\"\u001b[39m\u001b[38;5;130;01m\\n\u001b[39;00m\u001b[38;5;124mBot: \u001b[39m\u001b[38;5;132;01m{\u001b[39;00manswer\u001b[38;5;132;01m}\u001b[39;00m\u001b[38;5;130;01m\\n\u001b[39;00m\u001b[38;5;124m\"\u001b[39m)\n",
      "\u001b[1;31mNameError\u001b[0m: name 'context' is not defined"
     ]
    }
   ],
   "source": [
    "while True:\n",
    "    user_input = input(\"You: \").strip()\n",
    "    if user_input.lower() in [\"exit\", \"quit\"]:\n",
    "        print(\"Bot: Goodbye!\")\n",
    "        break\n",
    "\n",
    "    user_input+=f\"\\n\\n similar case judgements : {context}\"\n",
    "\n",
    "    answer = conversion.predict(input=user_input)\n",
    "\n",
    "    print(f\"\\nBot: {answer}\\n\")"
   ]
  }
 ],
 "metadata": {
  "kernelspec": {
   "display_name": "ml",
   "language": "python",
   "name": "python3"
  },
  "language_info": {
   "codemirror_mode": {
    "name": "ipython",
    "version": 3
   },
   "file_extension": ".py",
   "mimetype": "text/x-python",
   "name": "python",
   "nbconvert_exporter": "python",
   "pygments_lexer": "ipython3",
   "version": "3.10.18"
  }
 },
 "nbformat": 4,
 "nbformat_minor": 5
}
